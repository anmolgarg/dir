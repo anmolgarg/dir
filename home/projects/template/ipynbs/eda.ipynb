{
 "cells": [
  {
   "cell_type": "code",
   "execution_count": null,
   "metadata": {
    "collapsed": false
   },
   "outputs": [],
   "source": [
    "##### imports\n",
    "import sys\n",
    "import numpy as np\n",
    "import pandas as pd\n",
    "import datetime as dt\n",
    "import pytz\n",
    "import matplotlib.pyplot as plt\n",
    "\n",
    "##### globals, status\n",
    "now = dt.datetime.now(pytz.timezone('US/Pacific'))\n",
    "datestr = now.strftime('%m%d%y')\n",
    "print 'script executed at', now\n",
    "resdir, inputdir = '../results/', '../input/'\n",
    "\n",
    "##### ipynb options\n",
    "try:\n",
    "    pd.set_option('display.max_columns', 500)\n",
    "    pd.set_option('display.max_rows',    100)\n",
    "    get_ipython().magic(u'matplotlib inline')\n",
    "except:\n",
    "    pass"
   ]
  },
  {
   "cell_type": "code",
   "execution_count": null,
   "metadata": {
    "collapsed": false
   },
   "outputs": [],
   "source": []
  },
  {
   "cell_type": "code",
   "execution_count": null,
   "metadata": {
    "collapsed": true
   },
   "outputs": [],
   "source": [
    "results_df = pd.DataFrame()"
   ]
  },
  {
   "cell_type": "code",
   "execution_count": null,
   "metadata": {
    "collapsed": false
   },
   "outputs": [],
   "source": [
    "filename = 'results_'+datestr\n",
    "print \"saving csv'd results at \"+resdir+'csv/'+filename, \"\\nsaving pickle'd results at \"+resdir+'pickle/'+filename\n",
    "results_df.to_csv(resdir+'csv/'+filename+'.csv')\n",
    "results_df.to_pickle(resdir+'pickle/'+filename+'.pkl')\n",
    "\n",
    "later = dt.datetime.now(pytz.timezone('US/Pacific'))\n",
    "print '\\nscript completed successfully at', later"
   ]
  }
 ],
 "metadata": {
  "kernelspec": {
   "display_name": "Python 2",
   "language": "python",
   "name": "python2"
  },
  "language_info": {
   "codemirror_mode": {
    "name": "ipython",
    "version": 2
   },
   "file_extension": ".py",
   "mimetype": "text/x-python",
   "name": "python",
   "nbconvert_exporter": "python",
   "pygments_lexer": "ipython2",
   "version": "2.7.9"
  }
 },
 "nbformat": 4,
 "nbformat_minor": 0
}
